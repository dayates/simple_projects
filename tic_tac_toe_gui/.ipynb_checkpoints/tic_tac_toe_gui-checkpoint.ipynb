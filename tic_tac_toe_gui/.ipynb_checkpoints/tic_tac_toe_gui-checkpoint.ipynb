{
 "cells": [
  {
   "cell_type": "markdown",
   "id": "09bbf812-2d26-4581-890f-7c568997e9af",
   "metadata": {},
   "source": [
    "GUI based on the game from https://realpython.com/tic-tac-toe-python/"
   ]
  },
  {
   "cell_type": "code",
   "execution_count": 1,
   "id": "d5dca2cf-c53f-48c7-930e-4c4d7ff40b82",
   "metadata": {},
   "outputs": [],
   "source": [
    "#import our functions from the tic tac toe command line game\n",
    "from tic_tac_toe_functions import *\n",
    "\n",
    "#import other needed functions and packages\n",
    "import tkinter as tk\n",
    "from tkinter import font"
   ]
  },
  {
   "cell_type": "code",
   "execution_count": 15,
   "id": "437a2e16-9430-4f34-a4f7-2aea03572ac4",
   "metadata": {},
   "outputs": [],
   "source": [
    "#class to hold our tic tac toe board\n",
    "class TicTacToeBoard(tk.Tk):\n",
    "\n",
    "    #initialization\n",
    "    def __init__(self):\n",
    "        super().__init__()\n",
    "        self.title(\"Tic Tac Toe Game!\")\n",
    "        self._cells = {}\n",
    "        self._create_display()\n",
    "        self._create_board()\n",
    "\n",
    "    #display pf the bpard\n",
    "    def _create_display(self):\n",
    "        display_frame = tk.Frame(master=self)\n",
    "        display_frame.pack(fill=tk.X)\n",
    "        #display parameters\n",
    "        self.display = tk.Label(\n",
    "            master=display_frame,\n",
    "            text=\"Ready?!\",\n",
    "            font=font.Font(size=28,weight=\"bold\"),\n",
    "        )\n",
    "        self.display.pack()\n",
    "\n",
    "    #the board itself\n",
    "    def _create_board(self):\n",
    "        grid_frame = tk.Frame(master=self)\n",
    "        grid_frame.pack()\n",
    "\n",
    "        #create the display for each box in the grid\n",
    "        for row in range(3):\n",
    "            self.rowconfigure(row,weight=1,minsize=80)\n",
    "            self.columnconfigure(row,weight=1,minsize=100)\n",
    "            for col in range(3):\n",
    "                button = tk.Button(\n",
    "                    master=grid_frame,\n",
    "                    text=\"\",\n",
    "                    font=font.Font(size=36,weight=\"bold\"),\n",
    "                    fg=\"black\",\n",
    "                    width=3,\n",
    "                    height=2,\n",
    "                    highlightbackground='lightgreen',\n",
    "                )\n",
    "                self._cells[button] = (row,col)\n",
    "                button.grid(\n",
    "                    row=row,\n",
    "                    column=col,\n",
    "                    padx=5,\n",
    "                    pady=5,\n",
    "                    sticky=\"nsew\"\n",
    "                )\n",
    "\n",
    "    #updating the board and playing the game\n",
    "    def play(self,event):\n",
    "        clicked_button = event.widget\n",
    "        row, col = self._cells[clicked_button]\n",
    "        #print(row,col)\n",
    "        #self._update_button(\n",
    "\n",
    "\n",
    "    #update the clicked button\n",
    "    def _update_button(self,clicked,player):\n",
    "        clicked.config(text=player)\n",
    "        \n"
   ]
  },
  {
   "cell_type": "code",
   "execution_count": 17,
   "id": "1ea71a90-e227-4e33-96ad-163b0cd23a8c",
   "metadata": {},
   "outputs": [],
   "source": [
    "\n",
    "tic = TicTacToeBoard()\n",
    "tic.mainloop()"
   ]
  },
  {
   "cell_type": "code",
   "execution_count": null,
   "id": "2179cd22-37ad-49ce-91b9-1b7711def7a2",
   "metadata": {},
   "outputs": [],
   "source": []
  }
 ],
 "metadata": {
  "kernelspec": {
   "display_name": "Python 3 (ipykernel)",
   "language": "python",
   "name": "python3"
  },
  "language_info": {
   "codemirror_mode": {
    "name": "ipython",
    "version": 3
   },
   "file_extension": ".py",
   "mimetype": "text/x-python",
   "name": "python",
   "nbconvert_exporter": "python",
   "pygments_lexer": "ipython3",
   "version": "3.12.4"
  }
 },
 "nbformat": 4,
 "nbformat_minor": 5
}
