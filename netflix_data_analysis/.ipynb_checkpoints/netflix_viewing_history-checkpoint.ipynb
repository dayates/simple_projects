{
 "cells": [
  {
   "cell_type": "markdown",
   "id": "9fcb9c01-57ad-4449-b503-8010322931b2",
   "metadata": {},
   "source": [
    "# Analysis of Netflix data\n",
    "\n",
    "Loosely based off of:\n",
    "https://www.dataquest.io/blog/python-tutorial-analyze-personal-netflix-data/"
   ]
  },
  {
   "cell_type": "code",
   "execution_count": null,
   "id": "d4bf9782-19b2-4240-a306-d7eb387c2d34",
   "metadata": {},
   "outputs": [],
   "source": [
    "#pandas import\n",
    "import pandas as pd"
   ]
  },
  {
   "cell_type": "code",
   "execution_count": null,
   "id": "8f0c0c4b-ec6a-4560-91e6-79cdabe8c352",
   "metadata": {},
   "outputs": [],
   "source": [
    "#import the data into a pandas dataframe\n",
    "\n",
    "df = pd.read_csv(\"../../netflix-report/CONTENT_INTERACTION/ViewingActivity.csv\")\n"
   ]
  },
  {
   "cell_type": "code",
   "execution_count": null,
   "id": "d892a078-420a-4e96-97a2-1f85c388957c",
   "metadata": {},
   "outputs": [],
   "source": [
    "#drop those columns that we don't need\n",
    "df.drop(['Attributes', 'Supplemental Video Type','Device Type', 'Bookmark', 'Latest Bookmark', 'Country'],axis=1)"
   ]
  },
  {
   "cell_type": "code",
   "execution_count": null,
   "id": "a660feec-9403-4937-b90b-c8bb15f43b4b",
   "metadata": {},
   "outputs": [],
   "source": [
    "#now select out only daniel's shows\n",
    "mask = df['Profile Name'].isin(['daniel'])\n",
    "#apply mask to select only daniel things\n",
    "new_df = df[mask]"
   ]
  },
  {
   "cell_type": "code",
   "execution_count": null,
   "id": "012f2a89-b900-4dc5-84be-a96ad99b9ecf",
   "metadata": {},
   "outputs": [],
   "source": [
    "#check that we are selecting correctly\n",
    "#drop the columns we don't care about again\n",
    "simple_df = new_df.drop(['Attributes', 'Supplemental Video Type','Device Type', 'Bookmark', 'Latest Bookmark', 'Country'],axis=1)\n"
   ]
  },
  {
   "cell_type": "code",
   "execution_count": null,
   "id": "1f6235f5-fd95-42cd-ad9d-0c59075d3867",
   "metadata": {},
   "outputs": [],
   "source": [
    "#check types of these\n",
    "simple_df.dtypes"
   ]
  },
  {
   "cell_type": "code",
   "execution_count": null,
   "id": "c00e0a1c-41f4-419a-87b4-4e70fe5005bf",
   "metadata": {},
   "outputs": [],
   "source": [
    "#we need to conver the data types to the correct values\n",
    "simple_df['Duration'] = pd.to_timedelta(simple_df['Duration'])\n",
    "simple_df['Start Time'] = pd.to_datetime(simple_df['Start Time'],utc=True)\n",
    "#convert from UTC to Pacific time\n",
    "simple_df = simple_df.set_index('Start Time')\n",
    "simple_df.index = simple_df.index.tz_convert('US/Pacific')\n",
    "simple_df.reset_index()"
   ]
  },
  {
   "cell_type": "code",
   "execution_count": null,
   "id": "0cf72302-7796-4e74-8587-e9a9b7dfb041",
   "metadata": {},
   "outputs": [],
   "source": [
    "simple_df.dtypes"
   ]
  },
  {
   "cell_type": "code",
   "execution_count": null,
   "id": "1856d057-4d4d-452f-a137-c57e6db2754d",
   "metadata": {},
   "outputs": [],
   "source": [
    "#function to act on the data frame and give information on each show\n",
    "def simple_show_info(show_name):\n",
    "    show = simple_df[simple_df['Title'].str.contains(f\"{show_name}\",regex=False)]\n",
    "    \n",
    "    \n",
    "    \n",
    "    print(f\"Total time spent watching show {show_name}: {show['Duration'].sum()}\")\n",
    "\n",
    "    return show"
   ]
  },
  {
   "cell_type": "code",
   "execution_count": null,
   "id": "fc141ca6-8c9e-4fb8-b718-de857f47ef62",
   "metadata": {},
   "outputs": [],
   "source": [
    "the_office = simple_show_info('The Office (U.S.)')\n",
    "the_office.head(10)"
   ]
  },
  {
   "cell_type": "code",
   "execution_count": null,
   "id": "c3708904-795d-4942-a940-f29eaaae46d9",
   "metadata": {},
   "outputs": [],
   "source": [
    "#now try to get all possible tv shows that I have watched\n",
    "\n",
    "#first we get our titles only\n",
    "title_df = simple_df['Title']\n",
    "show_df = title_df.str.split(\":\")\n",
    "#show_df = show_df.iloc(0)\n"
   ]
  },
  {
   "cell_type": "code",
   "execution_count": null,
   "id": "bd7080b7-2715-40e8-8911-af20db21c058",
   "metadata": {},
   "outputs": [],
   "source": [
    "#convert these into a set\n",
    "show_titles = [show_df[i][0] for i in range(show_df.size)]"
   ]
  },
  {
   "cell_type": "code",
   "execution_count": null,
   "id": "e4aa23b4-d7ed-4b6c-a746-eaf6f7a6d257",
   "metadata": {},
   "outputs": [],
   "source": [
    "#check them\n",
    "show_titles = set(show_titles)"
   ]
  },
  {
   "cell_type": "code",
   "execution_count": null,
   "id": "65622b95-ad4f-4cba-a178-60d059ddbdaa",
   "metadata": {},
   "outputs": [],
   "source": [
    "#some have a weird \"_ABCD\" addition to it. We will get rid of those now and just take above the first \"_\"\n",
    "\n",
    "#we also have a bunch of \"Season X ABC\". We can get rid of those without replacing them\n",
    "#and some are just trailers. Get rid of those too. \n",
    "\n",
    "#These will keep track of the good and bad titles\n",
    "good_titles = []\n",
    "bad_titles = []\n",
    "\n",
    "for title in show_titles:\n",
    "    if \"_\" in title:\n",
    "        main_title = title.split(\"_\")[0]\n",
    "        good_titles.append(main_title)\n",
    "        bad_titles.append(title)\n",
    "    #check for the \"Season X\" names. Just remove them\n",
    "    if \"season\" in title.lower():\n",
    "        bad_titles.append(title)\n",
    "    if \"trailer\" in title.lower(): #this will remove other names like Trailer Park Boys, but those are small instances\n",
    "        bad_titles.append(title)\n",
    "\n",
    "#now that we are done, we can add and remove the titles from the set\n",
    "show_titles.update(good_titles)\n",
    "show_titles.difference_update(bad_titles)"
   ]
  },
  {
   "cell_type": "code",
   "execution_count": null,
   "id": "16470a00-0697-432f-8943-b03211ef1be9",
   "metadata": {
    "scrolled": true
   },
   "outputs": [],
   "source": [
    "#check them now\n",
    "show_titles"
   ]
  },
  {
   "cell_type": "code",
   "execution_count": null,
   "id": "cf9a6214-3fc7-4d22-889b-77b4ada592a9",
   "metadata": {},
   "outputs": [],
   "source": [
    "#take a look at everything we have seen\n",
    "for title in show_titles:\n",
    "    simple_show_info(title)"
   ]
  },
  {
   "cell_type": "code",
   "execution_count": null,
   "id": "915ea45f-a35b-4e92-9c2c-e44420255f4e",
   "metadata": {},
   "outputs": [],
   "source": []
  },
  {
   "cell_type": "code",
   "execution_count": null,
   "id": "822f46a3-611f-4d10-8a8a-648a810a68c1",
   "metadata": {},
   "outputs": [],
   "source": []
  }
 ],
 "metadata": {
  "kernelspec": {
   "display_name": "Python 3 (ipykernel)",
   "language": "python",
   "name": "python3"
  },
  "language_info": {
   "codemirror_mode": {
    "name": "ipython",
    "version": 3
   },
   "file_extension": ".py",
   "mimetype": "text/x-python",
   "name": "python",
   "nbconvert_exporter": "python",
   "pygments_lexer": "ipython3",
   "version": "3.12.4"
  }
 },
 "nbformat": 4,
 "nbformat_minor": 5
}
